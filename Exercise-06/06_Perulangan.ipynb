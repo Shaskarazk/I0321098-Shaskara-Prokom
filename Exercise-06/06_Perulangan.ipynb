{
 "cells": [
  {
   "cell_type": "markdown",
   "metadata": {},
   "source": [
    "***\n",
    "<h1 align=\"center\">Exercise 06</h1>\n",
    " \n",
    "***\n",
    "## While Loop\n",
    "## Exercise 6.1\n",
    "isilah bagian rumpang berikut. xx diganti tanggal lahir dan yy diganti menjadi bulan lahir. tandanya menyesuaikan yang lebih besar."
   ]
  },
  {
   "cell_type": "code",
   "execution_count": 12,
   "metadata": {},
   "outputs": [
    {
     "name": "stdout",
     "output_type": "stream",
     "text": [
      "Kegagalan adalah guru terbaik\n",
      "Kegagalan adalah guru terbaik\n",
      "Kegagalan adalah guru terbaik\n",
      "Kegagalan adalah guru terbaik\n",
      "Kegagalan adalah guru terbaik\n",
      "Kegagalan adalah guru terbaik\n",
      "Kegagalan adalah guru terbaik\n",
      "Kegagalan adalah guru terbaik\n"
     ]
    }
   ],
   "source": [
    "#menentukan banyak pengulangan\n",
    "n = 17\n",
    "\n",
    "#melakukan pengulangan\n",
    "i = 10\n",
    "\n",
    "while i <= n :\n",
    "    print (\"Kegagalan adalah guru terbaik\")\n",
    "    #diisi motto kalian\n",
    "    i = i + 1 # sesuaikan dengan atas agar fungsi perulangan dapat berhenti\n"
   ]
  },
  {
   "cell_type": "markdown",
   "metadata": {},
   "source": [
    "## Exercise 6.2\n",
    "\n",
    "Buatlah code seperti yang dicontohkan pada modul agar user dapat menginputkan sendiri jumlah n yang diinginkan"
   ]
  },
  {
   "cell_type": "code",
   "execution_count": 13,
   "metadata": {},
   "outputs": [
    {
     "name": "stdout",
     "output_type": "stream",
     "text": [
      "6\n",
      "7\n",
      "8\n",
      "9\n",
      "10\n",
      "11\n",
      "12\n",
      "13\n",
      "14\n",
      "15\n",
      "16\n",
      "17\n"
     ]
    }
   ],
   "source": [
    "#Kerjakan disini\n",
    "n = int(input(\"input nilai n: \"))\n",
    "i = 6\n",
    "while i <= n :\n",
    "    print(i)\n",
    "    i= i + 1"
   ]
  },
  {
   "cell_type": "markdown",
   "metadata": {},
   "source": [
    "## Excercise 6.3\n",
    "\n",
    "isilah xx, yy, dan tanda rumpang seperti pada exercise 6.1\n"
   ]
  },
  {
   "cell_type": "code",
   "execution_count": 6,
   "metadata": {},
   "outputs": [
    {
     "name": "stdout",
     "output_type": "stream",
     "text": [
      "Baris ke-17 : Pitch Perfect\n",
      "Baris ke-16 : Pitch Perfect\n",
      "Baris ke-15 : Pitch Perfect\n",
      "Baris ke-14 : Pitch Perfect\n",
      "Baris ke-13 : Pitch Perfect\n",
      "Baris ke-12 : Pitch Perfect\n",
      "Baris ke-11 : Pitch Perfect\n",
      "Baris ke-10 : Pitch Perfect\n"
     ]
    }
   ],
   "source": [
    "#melakukan pengulangan\n",
    "i = 17\n",
    "\n",
    "while i >= 10 :\n",
    "    print (\"Baris ke-%d : Pitch Perfect\"%i)\n",
    "    #isi titik-titik dengan judul film favorit kalian\n",
    "    i = i - 1 "
   ]
  },
  {
   "cell_type": "markdown",
   "metadata": {},
   "source": [
    "## FOR LOOP\n",
    "\n",
    "## Exercise 6.4\n",
    "\n",
    "munculkan 3 dari 7 elemen yang berada di dalam list1 dan list2\n"
   ]
  },
  {
   "cell_type": "code",
   "execution_count": 1,
   "metadata": {},
   "outputs": [
    {
     "name": "stdout",
     "output_type": "stream",
     "text": [
      "4 Dendeng Bandung\n",
      "5 Rendang Ubud\n",
      "6 Ayam Penyet Ende\n"
     ]
    }
   ],
   "source": [
    "list1 = [\"Nasi Goreng\", \"Bakso\", \"Sate Padang\", \"Dendeng\", \"Rendang\", \"Ayam Penyet\", \"Mie Rebus\"] #masukkan 7 list makanan favorit kalian\n",
    "list2 = [\"Yogyakarta\", \"Palu\", \"Malang\", \"Bandung\", \"Ubud\", \"Ende\", \"Balikpapan\"] #masukkan 7 list kota favorit kalian\n",
    "\n",
    "for i in range(3,6) :\n",
    "    print(i+1, list1[i] , list2[i])"
   ]
  },
  {
   "cell_type": "markdown",
   "metadata": {},
   "source": [
    "## Perulangan Bersarang\n",
    "\n",
    "## Exercise 6.5"
   ]
  },
  {
   "cell_type": "code",
   "execution_count": 2,
   "metadata": {},
   "outputs": [
    {
     "name": "stdout",
     "output_type": "stream",
     "text": [
      "289 \n",
      "272 256 \n",
      "255 240 225 \n",
      "238 224 210 196 \n",
      "221 208 195 182 169 \n",
      "204 192 180 168 156 144 \n",
      "187 176 165 154 143 132 121 \n",
      "170 160 150 140 130 120 110 100 \n"
     ]
    }
   ],
   "source": [
    "i = 17\n",
    "while i >= 10:\n",
    "    j = 17\n",
    "    while j>=i:\n",
    "        print(\"%d \" % (i*j), end = '')\n",
    "        j = j - 1\n",
    "    print()\n",
    "    i-=1"
   ]
  },
  {
   "cell_type": "markdown",
   "metadata": {},
   "source": [
    "## Pernyataan Loncat\n",
    "\n",
    "## Exercise 6.\n",
    "\n",
    "Buatlah fungsi berikut agar muncul angka hingga berhenti sesuai dengan nilai qq\n",
    "qq = angka favorit kalian\n",
    "pp>qq"
   ]
  },
  {
   "cell_type": "code",
   "execution_count": 27,
   "metadata": {},
   "outputs": [
    {
     "name": "stdout",
     "output_type": "stream",
     "text": [
      "012345678910"
     ]
    }
   ],
   "source": [
    "for i in range(17):\n",
    "    print(i,end='')\n",
    "    if i == 10:\n",
    "        break"
   ]
  },
  {
   "cell_type": "markdown",
   "metadata": {},
   "source": [
    "***\n",
    "<h1 align=\"center\">WELL DONE</h1>\n",
    " \n",
    "***"
   ]
  }
 ],
 "metadata": {
  "interpreter": {
   "hash": "cd08f94adcf3cbae37fe85286256f4c2a10455ca9094fd053e9f3d3f09647223"
  },
  "kernelspec": {
   "display_name": "Python 3.9.7 64-bit",
   "language": "python",
   "name": "python3"
  },
  "language_info": {
   "codemirror_mode": {
    "name": "ipython",
    "version": 3
   },
   "file_extension": ".py",
   "mimetype": "text/x-python",
   "name": "python",
   "nbconvert_exporter": "python",
   "pygments_lexer": "ipython3",
   "version": "3.9.7"
  },
  "orig_nbformat": 4
 },
 "nbformat": 4,
 "nbformat_minor": 2
}
